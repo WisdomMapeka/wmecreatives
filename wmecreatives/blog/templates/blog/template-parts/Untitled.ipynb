{
 "cells": [
  {
   "cell_type": "code",
   "execution_count": 1,
   "metadata": {},
   "outputs": [],
   "source": [
    "from pygments.styles import get_all_styles"
   ]
  },
  {
   "cell_type": "code",
   "execution_count": 2,
   "metadata": {},
   "outputs": [],
   "source": [
    "styles = list(get_all_styles())"
   ]
  },
  {
   "cell_type": "code",
   "execution_count": 3,
   "metadata": {},
   "outputs": [
    {
     "data": {
      "text/plain": [
       "['default',\n",
       " 'emacs',\n",
       " 'friendly',\n",
       " 'colorful',\n",
       " 'autumn',\n",
       " 'murphy',\n",
       " 'manni',\n",
       " 'monokai',\n",
       " 'perldoc',\n",
       " 'pastie',\n",
       " 'borland',\n",
       " 'trac',\n",
       " 'native',\n",
       " 'fruity',\n",
       " 'bw',\n",
       " 'vim',\n",
       " 'vs',\n",
       " 'tango',\n",
       " 'rrt',\n",
       " 'xcode',\n",
       " 'igor',\n",
       " 'paraiso-light',\n",
       " 'paraiso-dark',\n",
       " 'lovelace',\n",
       " 'algol',\n",
       " 'algol_nu',\n",
       " 'arduino',\n",
       " 'rainbow_dash',\n",
       " 'abap',\n",
       " 'solarized-dark',\n",
       " 'solarized-light',\n",
       " 'sas',\n",
       " 'stata',\n",
       " 'stata-light',\n",
       " 'stata-dark',\n",
       " 'inkpot']"
      ]
     },
     "execution_count": 3,
     "metadata": {},
     "output_type": "execute_result"
    }
   ],
   "source": [
    "styles\n"
   ]
  },
  {
   "cell_type": "code",
   "execution_count": null,
   "metadata": {},
   "outputs": [],
   "source": [
    "from pygments import highlight\n",
    "from pygments.lexers import PythonLexer\n",
    "from pygments.formatters import HtmlFormatter\n",
    "print(HtmlFormatter().get_style_defs('.colorful'))"
   ]
  },
  {
   "cell_type": "code",
   "execution_count": null,
   "metadata": {},
   "outputs": [],
   "source": []
  }
 ],
 "metadata": {
  "kernelspec": {
   "display_name": "Python 3",
   "language": "python",
   "name": "python3"
  },
  "language_info": {
   "codemirror_mode": {
    "name": "ipython",
    "version": 3
   },
   "file_extension": ".py",
   "mimetype": "text/x-python",
   "name": "python",
   "nbconvert_exporter": "python",
   "pygments_lexer": "ipython3",
   "version": "3.8.5"
  }
 },
 "nbformat": 4,
 "nbformat_minor": 4
}
